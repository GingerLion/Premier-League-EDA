{
 "cells": [
  {
   "cell_type": "code",
   "execution_count": 1,
   "metadata": {},
   "outputs": [],
   "source": [
    "import numpy as np\n",
    "import pandas as pd\n",
    "import matplotlib.pyplot as plt\n",
    "import seaborn as sns\n",
    "%matplotlib inline"
   ]
  },
  {
   "cell_type": "code",
   "execution_count": 2,
   "metadata": {},
   "outputs": [],
   "source": [
    "df = pd.read_json('fpl_data_2018_2019.json',orient='columns')\n",
    "df = df.T"
   ]
  },
  {
   "cell_type": "code",
   "execution_count": 4,
   "metadata": {},
   "outputs": [
    {
     "data": {
      "text/plain": [
       "Index(['Accurate Long Balls', 'Accurate long balls', 'Aerial Battles Lost',\n",
       "       'Aerial Battles Won', 'Aerial battles lost', 'Aerial battles won',\n",
       "       'Appearances', 'Assists', 'Attack', 'Big Chances Created',\n",
       "       'Big Chances Missed', 'Big chances created', 'Big chances missed',\n",
       "       'Blocked Shots', 'Blocked shots', 'Catches', 'Clean sheets',\n",
       "       'Clearances', 'Clearances off line', 'Club', 'Cross Accuracy %',\n",
       "       'Cross accuracy %', 'Crosses', 'Defence', 'Discipline', 'Duels Lost',\n",
       "       'Duels Won', 'Duels lost', 'Duels won', 'Errors Leading To Goal',\n",
       "       'Errors leading to goal', 'Fouls', 'Freekicks scored', 'Goal Kicks',\n",
       "       'Goalkeeping', 'Goals', 'Goals From Freekick', 'Goals Per Match',\n",
       "       'Goals With Header', 'Goals With Left Foot', 'Goals With Right Foot',\n",
       "       'Goals conceded', 'Goals per match', 'Goals with left foot',\n",
       "       'Goals with right foot', 'Headed Clearance', 'Headed goals',\n",
       "       'High Claims', 'Hit Woodwork', 'Hit woodwork', 'Interceptions',\n",
       "       'Last man tackles', 'Losses', 'Offsides', 'Own goals', 'Passes',\n",
       "       'Passes Per Match', 'Passes per match', 'Penalties Scored',\n",
       "       'Penalties saved', 'Penalties scored', 'Position', 'Punches',\n",
       "       'Recoveries', 'Red Cards', 'Red cards', 'Saves', 'Shooting Accuracy %',\n",
       "       'Shooting accuracy %', 'Shots', 'Shots On Target', 'Shots on target',\n",
       "       'Successful /s', 'Successful 0/0s', 'Successful 5/5s',\n",
       "       'Successful 50/50s', 'Sweeper clearances', 'Tackle Success %',\n",
       "       'Tackle success %', 'Tackles', 'Team Play', 'Through Balls',\n",
       "       'Through balls', 'Throw outs', 'Wins', 'Yellow Cards', 'Yellow cards'],\n",
       "      dtype='object')"
      ]
     },
     "execution_count": 4,
     "metadata": {},
     "output_type": "execute_result"
    }
   ],
   "source": [
    "df.columns"
   ]
  },
  {
   "cell_type": "code",
   "execution_count": 5,
   "metadata": {},
   "outputs": [
    {
     "data": {
      "text/plain": [
       "array(['Forward', 'Defender', 'Midfielder', 'Goalkeeper'], dtype=object)"
      ]
     },
     "execution_count": 5,
     "metadata": {},
     "output_type": "execute_result"
    }
   ],
   "source": [
    "df['Position'].unique()"
   ]
  },
  {
   "cell_type": "code",
   "execution_count": null,
   "metadata": {},
   "outputs": [],
   "source": []
  },
  {
   "cell_type": "code",
   "execution_count": 20,
   "metadata": {},
   "outputs": [],
   "source": [
    "df['Goals'] = df['Goals'].astype(int)\n",
    "df['Appearances'] = df['Appearances'].astype(int)\n",
    "df['Assists'] = df['Assists'].astype(int)"
   ]
  },
  {
   "cell_type": "code",
   "execution_count": 22,
   "metadata": {},
   "outputs": [],
   "source": [
    "df['Goals Per Match'] = (df['Goals'] / df['Appearances'])\n",
    "df['Assists Per Match'] = (df['Assists'] / df['Appearances'])\n",
    "df['Attacking Threat'] = (df['Goals Per Match'] + df['Assists Per Match']) / 2"
   ]
  },
  {
   "cell_type": "code",
   "execution_count": 23,
   "metadata": {},
   "outputs": [
    {
     "data": {
      "text/html": [
       "<div>\n",
       "<style scoped>\n",
       "    .dataframe tbody tr th:only-of-type {\n",
       "        vertical-align: middle;\n",
       "    }\n",
       "\n",
       "    .dataframe tbody tr th {\n",
       "        vertical-align: top;\n",
       "    }\n",
       "\n",
       "    .dataframe thead th {\n",
       "        text-align: right;\n",
       "    }\n",
       "</style>\n",
       "<table border=\"1\" class=\"dataframe\">\n",
       "  <thead>\n",
       "    <tr style=\"text-align: right;\">\n",
       "      <th></th>\n",
       "      <th>Attacking Threat</th>\n",
       "      <th>Appearances</th>\n",
       "    </tr>\n",
       "    <tr>\n",
       "      <th>Player Name</th>\n",
       "      <th></th>\n",
       "      <th></th>\n",
       "    </tr>\n",
       "  </thead>\n",
       "  <tbody>\n",
       "    <tr>\n",
       "      <th>Pierre-Emerick Aubameyang</th>\n",
       "      <td>0.500000</td>\n",
       "      <td>14</td>\n",
       "    </tr>\n",
       "    <tr>\n",
       "      <th>Mohamed Salah</th>\n",
       "      <td>0.460000</td>\n",
       "      <td>50</td>\n",
       "    </tr>\n",
       "    <tr>\n",
       "      <th>Sergio Agüero</th>\n",
       "      <td>0.429952</td>\n",
       "      <td>207</td>\n",
       "    </tr>\n",
       "    <tr>\n",
       "      <th>Harry Kane</th>\n",
       "      <td>0.398693</td>\n",
       "      <td>153</td>\n",
       "    </tr>\n",
       "    <tr>\n",
       "      <th>Gabriel Jesus</th>\n",
       "      <td>0.337500</td>\n",
       "      <td>40</td>\n",
       "    </tr>\n",
       "    <tr>\n",
       "      <th>Alexis Sánchez</th>\n",
       "      <td>0.333333</td>\n",
       "      <td>135</td>\n",
       "    </tr>\n",
       "    <tr>\n",
       "      <th>Kevin De Bruyne</th>\n",
       "      <td>0.318627</td>\n",
       "      <td>102</td>\n",
       "    </tr>\n",
       "    <tr>\n",
       "      <th>Romelu Lukaku</th>\n",
       "      <td>0.307692</td>\n",
       "      <td>221</td>\n",
       "    </tr>\n",
       "    <tr>\n",
       "      <th>Dele Alli</th>\n",
       "      <td>0.301887</td>\n",
       "      <td>106</td>\n",
       "    </tr>\n",
       "    <tr>\n",
       "      <th>Jamie Vardy</th>\n",
       "      <td>0.290210</td>\n",
       "      <td>143</td>\n",
       "    </tr>\n",
       "  </tbody>\n",
       "</table>\n",
       "</div>"
      ],
      "text/plain": [
       "                           Attacking Threat  Appearances\n",
       "Player Name                                             \n",
       "Pierre-Emerick Aubameyang          0.500000           14\n",
       "Mohamed Salah                      0.460000           50\n",
       "Sergio Agüero                      0.429952          207\n",
       "Harry Kane                         0.398693          153\n",
       "Gabriel Jesus                      0.337500           40\n",
       "Alexis Sánchez                     0.333333          135\n",
       "Kevin De Bruyne                    0.318627          102\n",
       "Romelu Lukaku                      0.307692          221\n",
       "Dele Alli                          0.301887          106\n",
       "Jamie Vardy                        0.290210          143"
      ]
     },
     "execution_count": 23,
     "metadata": {},
     "output_type": "execute_result"
    }
   ],
   "source": [
    "df[df['Appearances'] >= 5][['Attacking Threat','Appearances']].sort_values(by=['Attacking Threat'],ascending=False).head(10)"
   ]
  },
  {
   "cell_type": "code",
   "execution_count": 24,
   "metadata": {},
   "outputs": [
    {
     "data": {
      "text/plain": [
       "[Text(0,0,'Chelsea'),\n",
       " Text(0,0,'Tottenham Hotspur'),\n",
       " Text(0,0,'Manchester City'),\n",
       " Text(0,0,'Liverpool'),\n",
       " Text(0,0,'Manchester United'),\n",
       " Text(0,0,'Arsenal'),\n",
       " Text(0,0,'Everton'),\n",
       " Text(0,0,'Wolverhampton Wanderers'),\n",
       " Text(0,0,'AFC Bournemouth'),\n",
       " Text(0,0,'Crystal Palace')]"
      ]
     },
     "execution_count": 24,
     "metadata": {},
     "output_type": "execute_result"
    },
    {
     "data": {
      "image/png": "[encoded data removed]",
      "text/plain": [
       "<matplotlib.figure.Figure at 0x1c1ae30d550>"
      ]
     },
     "metadata": {},
     "output_type": "display_data"
    }
   ],
   "source": [
    "club_at = pd.DataFrame(df.groupby('Club').sum()['Attacking Threat'].sort_values(ascending=False).head(10))\n",
    "chart = sns.barplot(x=club_at.index,y='Attacking Threat',data=club_at)\n",
    "chart.set_xticklabels(chart.get_xticklabels(), rotation=45, horizontalalignment='right')"
   ]
  },
  {
   "cell_type": "code",
   "execution_count": 25,
   "metadata": {},
   "outputs": [],
   "source": [
    "df['Shots on target'] = df['Shots on target'].fillna(0)\n",
    "df['Shots on target'] = df['Shots on target'].astype(int)\n",
    "df['Goals'] = df['Goals'].fillna(0)\n",
    "df['Goals'] = df['Goals'].astype(int)\n",
    "df['Passes Per Match'] = df['Passes Per Match'].fillna(0)\n",
    "df['Passes Per Match'] = df['Passes Per Match'].astype(int)\n"
   ]
  },
  {
   "cell_type": "code",
   "execution_count": 26,
   "metadata": {},
   "outputs": [
    {
     "data": {
      "text/html": [
       "<div>\n",
       "<style scoped>\n",
       "    .dataframe tbody tr th:only-of-type {\n",
       "        vertical-align: middle;\n",
       "    }\n",
       "\n",
       "    .dataframe tbody tr th {\n",
       "        vertical-align: top;\n",
       "    }\n",
       "\n",
       "    .dataframe thead th {\n",
       "        text-align: right;\n",
       "    }\n",
       "</style>\n",
       "<table border=\"1\" class=\"dataframe\">\n",
       "  <thead>\n",
       "    <tr style=\"text-align: right;\">\n",
       "      <th></th>\n",
       "      <th>Attacking Threat</th>\n",
       "      <th>Assists</th>\n",
       "    </tr>\n",
       "  </thead>\n",
       "  <tbody>\n",
       "    <tr>\n",
       "      <th>Attacking Threat</th>\n",
       "      <td>1.000000</td>\n",
       "      <td>0.465589</td>\n",
       "    </tr>\n",
       "    <tr>\n",
       "      <th>Assists</th>\n",
       "      <td>0.465589</td>\n",
       "      <td>1.000000</td>\n",
       "    </tr>\n",
       "  </tbody>\n",
       "</table>\n",
       "</div>"
      ],
      "text/plain": [
       "                  Attacking Threat   Assists\n",
       "Attacking Threat          1.000000  0.465589\n",
       "Assists                   0.465589  1.000000"
      ]
     },
     "execution_count": 26,
     "metadata": {},
     "output_type": "execute_result"
    }
   ],
   "source": [
    "df[['Attacking Threat','Assists']].corr()"
   ]
  }
 ],
 "metadata": {
  "kernelspec": {
   "display_name": "Python(my_env)",
   "language": "python",
   "name": "myenv"
  },
  "language_info": {
   "codemirror_mode": {
    "name": "ipython",
    "version": 3
   },
   "file_extension": ".py",
   "mimetype": "text/x-python",
   "name": "python",
   "nbconvert_exporter": "python",
   "pygments_lexer": "ipython3",
   "version": "3.6.4"
  }
 },
 "nbformat": 4,
 "nbformat_minor": 2
}
